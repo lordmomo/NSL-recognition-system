{
  "cells": [
    {
      "cell_type": "code",
      "execution_count": 1,
      "metadata": {
        "id": "igMyGnjE9hEp"
      },
      "outputs": [
        {
          "name": "stderr",
          "output_type": "stream",
          "text": [
            "c:\\Users\\user\\AppData\\Local\\Programs\\Python\\Python39\\lib\\site-packages\\requests\\__init__.py:102: RequestsDependencyWarning: urllib3 (1.26.6) or chardet (5.0.0)/charset_normalizer (2.0.4) doesn't match a supported version!\n",
            "  warnings.warn(\"urllib3 ({}) or chardet ({})/charset_normalizer ({}) doesn't match a supported \"\n"
          ]
        }
      ],
      "source": [
        "import csv\n",
        "\n",
        "import numpy as np\n",
        "import tensorflow as tf\n",
        "from sklearn.model_selection import train_test_split\n",
        "\n",
        "RANDOM_SEED = 42"
      ]
    },
    {
      "cell_type": "markdown",
      "metadata": {
        "id": "t2HDvhIu9hEr"
      },
      "source": [
        "# Specify each path"
      ]
    },
    {
      "cell_type": "code",
      "execution_count": 2,
      "metadata": {
        "id": "9NvZP2Zn9hEy"
      },
      "outputs": [],
      "source": [
        "dataset = 'model/keypoint_classifier/keypoint.csv'\n",
        "model_save_path = 'model/keypoint_classifier/keypoint_classifier.hdf5'\n",
        "tflite_save_path = 'model/keypoint_classifier/keypoint_classifier.tflite'"
      ]
    },
    {
      "cell_type": "markdown",
      "metadata": {
        "id": "s5oMH7x19hEz"
      },
      "source": [
        "# Set number of classes"
      ]
    },
    {
      "cell_type": "code",
      "execution_count": 3,
      "metadata": {
        "id": "du4kodXL9hEz"
      },
      "outputs": [],
      "source": [
        "NUM_CLASSES = 38"
      ]
    },
    {
      "cell_type": "markdown",
      "metadata": {
        "id": "XjnL0uso9hEz"
      },
      "source": [
        "# Dataset reading"
      ]
    },
    {
      "cell_type": "code",
      "execution_count": 4,
      "metadata": {
        "id": "QT5ZqtEz9hE0"
      },
      "outputs": [],
      "source": [
        "X_dataset = np.loadtxt(dataset, delimiter=',', dtype='float32', usecols=list(range(1, (21 * 2) + 1)))"
      ]
    },
    {
      "cell_type": "code",
      "execution_count": 5,
      "metadata": {
        "id": "QmoKFsp49hE0"
      },
      "outputs": [],
      "source": [
        "y_dataset = np.loadtxt(dataset, delimiter=',', dtype='int32', usecols=(0))"
      ]
    },
    {
      "cell_type": "code",
      "execution_count": 6,
      "metadata": {
        "id": "xQU7JTZ_9hE0"
      },
      "outputs": [],
      "source": [
        "X_train, X_test, y_train, y_test = train_test_split(X_dataset, y_dataset, train_size=0.75, random_state=RANDOM_SEED)"
      ]
    },
    {
      "cell_type": "markdown",
      "metadata": {
        "id": "mxK_lETT9hE0"
      },
      "source": [
        "# Model building"
      ]
    },
    {
      "cell_type": "code",
      "execution_count": 7,
      "metadata": {
        "id": "vHBmUf1t9hE1"
      },
      "outputs": [],
      "source": [
        "model = tf.keras.models.Sequential([\n",
        "    tf.keras.layers.Input((21 * 2, )),\n",
        "    tf.keras.layers.Dropout(0.15),\n",
        "    tf.keras.layers.Dense(256, activation='relu'),\n",
        "    tf.keras.layers.Dropout(0.25),\n",
        "    tf.keras.layers.Dense(128, activation='relu'),\n",
        "    tf.keras.layers.Dropout(0.35),\n",
        "    tf.keras.layers.Dense(64, activation='relu'),\n",
        "    tf.keras.layers.Dense(NUM_CLASSES, activation='softmax')\n",
        "])"
      ]
    },
    {
      "cell_type": "code",
      "execution_count": 8,
      "metadata": {
        "colab": {
          "base_uri": "https://localhost:8080/"
        },
        "id": "ypqky9tc9hE1",
        "outputId": "5db082bb-30e3-4110-bf63-a1ee777ecd46"
      },
      "outputs": [
        {
          "name": "stdout",
          "output_type": "stream",
          "text": [
            "Model: \"sequential\"\n",
            "_________________________________________________________________\n",
            " Layer (type)                Output Shape              Param #   \n",
            "=================================================================\n",
            " dropout (Dropout)           (None, 42)                0         \n",
            "                                                                 \n",
            " dense (Dense)               (None, 256)               11008     \n",
            "                                                                 \n",
            " dropout_1 (Dropout)         (None, 256)               0         \n",
            "                                                                 \n",
            " dense_1 (Dense)             (None, 128)               32896     \n",
            "                                                                 \n",
            " dropout_2 (Dropout)         (None, 128)               0         \n",
            "                                                                 \n",
            " dense_2 (Dense)             (None, 64)                8256      \n",
            "                                                                 \n",
            " dense_3 (Dense)             (None, 38)                2470      \n",
            "                                                                 \n",
            "=================================================================\n",
            "Total params: 54,630\n",
            "Trainable params: 54,630\n",
            "Non-trainable params: 0\n",
            "_________________________________________________________________\n"
          ]
        }
      ],
      "source": [
        "model.summary()  # tf.keras.utils.plot_model(model, show_shapes=True)"
      ]
    },
    {
      "cell_type": "code",
      "execution_count": 9,
      "metadata": {
        "id": "MbMjOflQ9hE1"
      },
      "outputs": [],
      "source": [
        "# Model checkpoint callback\n",
        "cp_callback = tf.keras.callbacks.ModelCheckpoint(\n",
        "    model_save_path, verbose=1, save_weights_only=False)\n",
        "# Callback for early stopping\n",
        "es_callback = tf.keras.callbacks.EarlyStopping(patience=20, verbose=1)"
      ]
    },
    {
      "cell_type": "code",
      "execution_count": 10,
      "metadata": {
        "id": "c3Dac0M_9hE2"
      },
      "outputs": [],
      "source": [
        "# Model compilation\n",
        "model.compile(\n",
        "    optimizer=tf.keras.optimizers.Adam(learning_rate=0.001, decay= 1e-6),\n",
        "    loss='sparse_categorical_crossentropy',\n",
        "    metrics=['accuracy']\n",
        ")"
      ]
    },
    {
      "cell_type": "markdown",
      "metadata": {
        "id": "7XI0j1Iu9hE2"
      },
      "source": [
        "# Model training"
      ]
    },
    {
      "cell_type": "code",
      "execution_count": 11,
      "metadata": {
        "colab": {
          "base_uri": "https://localhost:8080/"
        },
        "id": "WirBl-JE9hE3",
        "outputId": "71b30ca2-8294-4d9d-8aa2-800d90d399de",
        "scrolled": true
      },
      "outputs": [
        {
          "name": "stdout",
          "output_type": "stream",
          "text": [
            "Epoch 1/2000\n",
            "146/147 [============================>.] - ETA: 0s - loss: 2.8427 - accuracy: 0.1615\n",
            "Epoch 1: saving model to model/keypoint_classifier\\keypoint_classifier.hdf5\n",
            "147/147 [==============================] - 3s 13ms/step - loss: 2.8391 - accuracy: 0.1620 - val_loss: 1.8143 - val_accuracy: 0.4937\n",
            "Epoch 2/2000\n",
            "140/147 [===========================>..] - ETA: 0s - loss: 1.9012 - accuracy: 0.3713\n",
            "Epoch 2: saving model to model/keypoint_classifier\\keypoint_classifier.hdf5\n",
            "147/147 [==============================] - 2s 11ms/step - loss: 1.8894 - accuracy: 0.3741 - val_loss: 1.1075 - val_accuracy: 0.7870\n",
            "Epoch 3/2000\n",
            "145/147 [============================>.] - ETA: 0s - loss: 1.5167 - accuracy: 0.4835\n",
            "Epoch 3: saving model to model/keypoint_classifier\\keypoint_classifier.hdf5\n",
            "147/147 [==============================] - 1s 10ms/step - loss: 1.5165 - accuracy: 0.4839 - val_loss: 0.8363 - val_accuracy: 0.8024\n",
            "Epoch 4/2000\n",
            "146/147 [============================>.] - ETA: 0s - loss: 1.3272 - accuracy: 0.5426\n",
            "Epoch 4: saving model to model/keypoint_classifier\\keypoint_classifier.hdf5\n",
            "147/147 [==============================] - 2s 11ms/step - loss: 1.3270 - accuracy: 0.5430 - val_loss: 0.6871 - val_accuracy: 0.8853\n",
            "Epoch 5/2000\n",
            "146/147 [============================>.] - ETA: 0s - loss: 1.1862 - accuracy: 0.5942\n",
            "Epoch 5: saving model to model/keypoint_classifier\\keypoint_classifier.hdf5\n",
            "147/147 [==============================] - 2s 13ms/step - loss: 1.1862 - accuracy: 0.5945 - val_loss: 0.6011 - val_accuracy: 0.8805\n",
            "Epoch 6/2000\n",
            "146/147 [============================>.] - ETA: 0s - loss: 1.0976 - accuracy: 0.6193\n",
            "Epoch 6: saving model to model/keypoint_classifier\\keypoint_classifier.hdf5\n",
            "147/147 [==============================] - 2s 14ms/step - loss: 1.0972 - accuracy: 0.6192 - val_loss: 0.5212 - val_accuracy: 0.9076\n",
            "Epoch 7/2000\n",
            "147/147 [==============================] - ETA: 0s - loss: 0.9925 - accuracy: 0.6543\n",
            "Epoch 7: saving model to model/keypoint_classifier\\keypoint_classifier.hdf5\n",
            "147/147 [==============================] - 2s 14ms/step - loss: 0.9925 - accuracy: 0.6543 - val_loss: 0.4853 - val_accuracy: 0.8925\n",
            "Epoch 8/2000\n",
            "143/147 [============================>.] - ETA: 0s - loss: 0.9072 - accuracy: 0.6854\n",
            "Epoch 8: saving model to model/keypoint_classifier\\keypoint_classifier.hdf5\n",
            "147/147 [==============================] - 2s 13ms/step - loss: 0.9056 - accuracy: 0.6854 - val_loss: 0.4097 - val_accuracy: 0.9190\n",
            "Epoch 9/2000\n",
            "147/147 [==============================] - ETA: 0s - loss: 0.8479 - accuracy: 0.7025\n",
            "Epoch 9: saving model to model/keypoint_classifier\\keypoint_classifier.hdf5\n",
            "147/147 [==============================] - 2s 12ms/step - loss: 0.8479 - accuracy: 0.7025 - val_loss: 0.3990 - val_accuracy: 0.9151\n",
            "Epoch 10/2000\n",
            "145/147 [============================>.] - ETA: 0s - loss: 0.7844 - accuracy: 0.7247\n",
            "Epoch 10: saving model to model/keypoint_classifier\\keypoint_classifier.hdf5\n",
            "147/147 [==============================] - 2s 11ms/step - loss: 0.7834 - accuracy: 0.7254 - val_loss: 0.3759 - val_accuracy: 0.9218\n",
            "Epoch 11/2000\n",
            "143/147 [============================>.] - ETA: 0s - loss: 0.7334 - accuracy: 0.7398\n",
            "Epoch 11: saving model to model/keypoint_classifier\\keypoint_classifier.hdf5\n",
            "147/147 [==============================] - 2s 12ms/step - loss: 0.7318 - accuracy: 0.7406 - val_loss: 0.3284 - val_accuracy: 0.9308\n",
            "Epoch 12/2000\n",
            "144/147 [============================>.] - ETA: 0s - loss: 0.6905 - accuracy: 0.7579\n",
            "Epoch 12: saving model to model/keypoint_classifier\\keypoint_classifier.hdf5\n",
            "147/147 [==============================] - 2s 11ms/step - loss: 0.6903 - accuracy: 0.7579 - val_loss: 0.3276 - val_accuracy: 0.9210\n",
            "Epoch 13/2000\n",
            "146/147 [============================>.] - ETA: 0s - loss: 0.6473 - accuracy: 0.7708\n",
            "Epoch 13: saving model to model/keypoint_classifier\\keypoint_classifier.hdf5\n",
            "147/147 [==============================] - 2s 12ms/step - loss: 0.6472 - accuracy: 0.7711 - val_loss: 0.3241 - val_accuracy: 0.9126\n",
            "Epoch 14/2000\n",
            "144/147 [============================>.] - ETA: 0s - loss: 0.6132 - accuracy: 0.7890\n",
            "Epoch 14: saving model to model/keypoint_classifier\\keypoint_classifier.hdf5\n",
            "147/147 [==============================] - 2s 10ms/step - loss: 0.6133 - accuracy: 0.7888 - val_loss: 0.2868 - val_accuracy: 0.9290\n",
            "Epoch 15/2000\n",
            "147/147 [==============================] - ETA: 0s - loss: 0.5960 - accuracy: 0.7928\n",
            "Epoch 15: saving model to model/keypoint_classifier\\keypoint_classifier.hdf5\n",
            "147/147 [==============================] - 2s 11ms/step - loss: 0.5960 - accuracy: 0.7928 - val_loss: 0.2742 - val_accuracy: 0.9354\n",
            "Epoch 16/2000\n",
            "144/147 [============================>.] - ETA: 0s - loss: 0.5584 - accuracy: 0.8081\n",
            "Epoch 16: saving model to model/keypoint_classifier\\keypoint_classifier.hdf5\n",
            "147/147 [==============================] - 2s 11ms/step - loss: 0.5594 - accuracy: 0.8075 - val_loss: 0.2701 - val_accuracy: 0.9400\n",
            "Epoch 17/2000\n",
            "147/147 [==============================] - ETA: 0s - loss: 0.5393 - accuracy: 0.8156\n",
            "Epoch 17: saving model to model/keypoint_classifier\\keypoint_classifier.hdf5\n",
            "147/147 [==============================] - 2s 11ms/step - loss: 0.5393 - accuracy: 0.8156 - val_loss: 0.2556 - val_accuracy: 0.9459\n",
            "Epoch 18/2000\n",
            "141/147 [===========================>..] - ETA: 0s - loss: 0.5176 - accuracy: 0.8227\n",
            "Epoch 18: saving model to model/keypoint_classifier\\keypoint_classifier.hdf5\n",
            "147/147 [==============================] - 2s 12ms/step - loss: 0.5159 - accuracy: 0.8232 - val_loss: 0.2327 - val_accuracy: 0.9470\n",
            "Epoch 19/2000\n",
            "142/147 [===========================>..] - ETA: 0s - loss: 0.4931 - accuracy: 0.8290\n",
            "Epoch 19: saving model to model/keypoint_classifier\\keypoint_classifier.hdf5\n",
            "147/147 [==============================] - 2s 11ms/step - loss: 0.4926 - accuracy: 0.8294 - val_loss: 0.2455 - val_accuracy: 0.9335\n",
            "Epoch 20/2000\n",
            "146/147 [============================>.] - ETA: 0s - loss: 0.4907 - accuracy: 0.8350\n",
            "Epoch 20: saving model to model/keypoint_classifier\\keypoint_classifier.hdf5\n",
            "147/147 [==============================] - 2s 12ms/step - loss: 0.4904 - accuracy: 0.8348 - val_loss: 0.2299 - val_accuracy: 0.9400\n",
            "Epoch 21/2000\n",
            "143/147 [============================>.] - ETA: 0s - loss: 0.4636 - accuracy: 0.8439\n",
            "Epoch 21: saving model to model/keypoint_classifier\\keypoint_classifier.hdf5\n",
            "147/147 [==============================] - 2s 11ms/step - loss: 0.4647 - accuracy: 0.8444 - val_loss: 0.2183 - val_accuracy: 0.9462\n",
            "Epoch 22/2000\n",
            "147/147 [==============================] - ETA: 0s - loss: 0.4590 - accuracy: 0.8445\n",
            "Epoch 22: saving model to model/keypoint_classifier\\keypoint_classifier.hdf5\n",
            "147/147 [==============================] - 2s 11ms/step - loss: 0.4590 - accuracy: 0.8445 - val_loss: 0.2550 - val_accuracy: 0.9325\n",
            "Epoch 23/2000\n",
            "143/147 [============================>.] - ETA: 0s - loss: 0.4378 - accuracy: 0.8534\n",
            "Epoch 23: saving model to model/keypoint_classifier\\keypoint_classifier.hdf5\n",
            "147/147 [==============================] - 2s 13ms/step - loss: 0.4375 - accuracy: 0.8540 - val_loss: 0.2097 - val_accuracy: 0.9523\n",
            "Epoch 24/2000\n",
            "145/147 [============================>.] - ETA: 0s - loss: 0.4259 - accuracy: 0.8529\n",
            "Epoch 24: saving model to model/keypoint_classifier\\keypoint_classifier.hdf5\n",
            "147/147 [==============================] - 2s 12ms/step - loss: 0.4273 - accuracy: 0.8527 - val_loss: 0.2092 - val_accuracy: 0.9450\n",
            "Epoch 25/2000\n",
            "146/147 [============================>.] - ETA: 0s - loss: 0.4164 - accuracy: 0.8591\n",
            "Epoch 25: saving model to model/keypoint_classifier\\keypoint_classifier.hdf5\n",
            "147/147 [==============================] - 2s 13ms/step - loss: 0.4166 - accuracy: 0.8592 - val_loss: 0.2280 - val_accuracy: 0.9364\n",
            "Epoch 26/2000\n",
            "142/147 [===========================>..] - ETA: 0s - loss: 0.4046 - accuracy: 0.8609\n",
            "Epoch 26: saving model to model/keypoint_classifier\\keypoint_classifier.hdf5\n",
            "147/147 [==============================] - 2s 12ms/step - loss: 0.4038 - accuracy: 0.8610 - val_loss: 0.2162 - val_accuracy: 0.9431\n",
            "Epoch 27/2000\n",
            "145/147 [============================>.] - ETA: 0s - loss: 0.3911 - accuracy: 0.8665\n",
            "Epoch 27: saving model to model/keypoint_classifier\\keypoint_classifier.hdf5\n",
            "147/147 [==============================] - 2s 13ms/step - loss: 0.3921 - accuracy: 0.8665 - val_loss: 0.2303 - val_accuracy: 0.9352\n",
            "Epoch 28/2000\n",
            "147/147 [==============================] - ETA: 0s - loss: 0.3763 - accuracy: 0.8717\n",
            "Epoch 28: saving model to model/keypoint_classifier\\keypoint_classifier.hdf5\n",
            "147/147 [==============================] - 2s 11ms/step - loss: 0.3763 - accuracy: 0.8717 - val_loss: 0.2059 - val_accuracy: 0.9459\n",
            "Epoch 29/2000\n",
            "145/147 [============================>.] - ETA: 0s - loss: 0.3846 - accuracy: 0.8689\n",
            "Epoch 29: saving model to model/keypoint_classifier\\keypoint_classifier.hdf5\n",
            "147/147 [==============================] - 2s 13ms/step - loss: 0.3838 - accuracy: 0.8690 - val_loss: 0.2103 - val_accuracy: 0.9443\n",
            "Epoch 30/2000\n",
            "144/147 [============================>.] - ETA: 0s - loss: 0.3696 - accuracy: 0.8765\n",
            "Epoch 30: saving model to model/keypoint_classifier\\keypoint_classifier.hdf5\n",
            "147/147 [==============================] - 2s 11ms/step - loss: 0.3715 - accuracy: 0.8763 - val_loss: 0.2190 - val_accuracy: 0.9394\n",
            "Epoch 31/2000\n",
            "147/147 [==============================] - ETA: 0s - loss: 0.3593 - accuracy: 0.8817\n",
            "Epoch 31: saving model to model/keypoint_classifier\\keypoint_classifier.hdf5\n",
            "147/147 [==============================] - 2s 12ms/step - loss: 0.3593 - accuracy: 0.8817 - val_loss: 0.1932 - val_accuracy: 0.9545\n",
            "Epoch 32/2000\n",
            "144/147 [============================>.] - ETA: 0s - loss: 0.3692 - accuracy: 0.8783\n",
            "Epoch 32: saving model to model/keypoint_classifier\\keypoint_classifier.hdf5\n",
            "147/147 [==============================] - 2s 11ms/step - loss: 0.3689 - accuracy: 0.8785 - val_loss: 0.2098 - val_accuracy: 0.9462\n",
            "Epoch 33/2000\n",
            "143/147 [============================>.] - ETA: 0s - loss: 0.3472 - accuracy: 0.8830\n",
            "Epoch 33: saving model to model/keypoint_classifier\\keypoint_classifier.hdf5\n",
            "147/147 [==============================] - 2s 11ms/step - loss: 0.3467 - accuracy: 0.8835 - val_loss: 0.1635 - val_accuracy: 0.9655\n",
            "Epoch 34/2000\n",
            "147/147 [==============================] - ETA: 0s - loss: 0.3424 - accuracy: 0.8856\n",
            "Epoch 34: saving model to model/keypoint_classifier\\keypoint_classifier.hdf5\n",
            "147/147 [==============================] - 2s 11ms/step - loss: 0.3424 - accuracy: 0.8856 - val_loss: 0.1831 - val_accuracy: 0.9512\n",
            "Epoch 35/2000\n",
            "145/147 [============================>.] - ETA: 0s - loss: 0.3360 - accuracy: 0.8879\n",
            "Epoch 35: saving model to model/keypoint_classifier\\keypoint_classifier.hdf5\n",
            "147/147 [==============================] - 2s 12ms/step - loss: 0.3353 - accuracy: 0.8881 - val_loss: 0.1883 - val_accuracy: 0.9526\n",
            "Epoch 36/2000\n",
            "147/147 [==============================] - ETA: 0s - loss: 0.3260 - accuracy: 0.8941\n",
            "Epoch 36: saving model to model/keypoint_classifier\\keypoint_classifier.hdf5\n",
            "147/147 [==============================] - 2s 11ms/step - loss: 0.3260 - accuracy: 0.8941 - val_loss: 0.1750 - val_accuracy: 0.9558\n",
            "Epoch 37/2000\n",
            "144/147 [============================>.] - ETA: 0s - loss: 0.3270 - accuracy: 0.8942\n",
            "Epoch 37: saving model to model/keypoint_classifier\\keypoint_classifier.hdf5\n",
            "147/147 [==============================] - 2s 11ms/step - loss: 0.3257 - accuracy: 0.8944 - val_loss: 0.1605 - val_accuracy: 0.9670\n",
            "Epoch 38/2000\n",
            "147/147 [==============================] - ETA: 0s - loss: 0.3174 - accuracy: 0.8930\n",
            "Epoch 38: saving model to model/keypoint_classifier\\keypoint_classifier.hdf5\n",
            "147/147 [==============================] - 2s 11ms/step - loss: 0.3174 - accuracy: 0.8930 - val_loss: 0.1935 - val_accuracy: 0.9517\n",
            "Epoch 39/2000\n",
            "143/147 [============================>.] - ETA: 0s - loss: 0.3113 - accuracy: 0.8965\n",
            "Epoch 39: saving model to model/keypoint_classifier\\keypoint_classifier.hdf5\n",
            "147/147 [==============================] - 3s 18ms/step - loss: 0.3109 - accuracy: 0.8963 - val_loss: 0.1703 - val_accuracy: 0.9625\n",
            "Epoch 40/2000\n",
            "142/147 [===========================>..] - ETA: 0s - loss: 0.3049 - accuracy: 0.8985\n",
            "Epoch 40: saving model to model/keypoint_classifier\\keypoint_classifier.hdf5\n",
            "147/147 [==============================] - 2s 12ms/step - loss: 0.3047 - accuracy: 0.8983 - val_loss: 0.1660 - val_accuracy: 0.9608\n",
            "Epoch 41/2000\n",
            "143/147 [============================>.] - ETA: 0s - loss: 0.3036 - accuracy: 0.9018\n",
            "Epoch 41: saving model to model/keypoint_classifier\\keypoint_classifier.hdf5\n",
            "147/147 [==============================] - 2s 11ms/step - loss: 0.3030 - accuracy: 0.9015 - val_loss: 0.1668 - val_accuracy: 0.9632\n",
            "Epoch 42/2000\n",
            "142/147 [===========================>..] - ETA: 0s - loss: 0.3019 - accuracy: 0.9014\n",
            "Epoch 42: saving model to model/keypoint_classifier\\keypoint_classifier.hdf5\n",
            "147/147 [==============================] - 2s 12ms/step - loss: 0.2999 - accuracy: 0.9021 - val_loss: 0.1726 - val_accuracy: 0.9507\n",
            "Epoch 43/2000\n",
            "142/147 [===========================>..] - ETA: 0s - loss: 0.2850 - accuracy: 0.9036\n",
            "Epoch 43: saving model to model/keypoint_classifier\\keypoint_classifier.hdf5\n",
            "147/147 [==============================] - 3s 21ms/step - loss: 0.2854 - accuracy: 0.9035 - val_loss: 0.1820 - val_accuracy: 0.9534\n",
            "Epoch 44/2000\n",
            "144/147 [============================>.] - ETA: 0s - loss: 0.2866 - accuracy: 0.9061\n",
            "Epoch 44: saving model to model/keypoint_classifier\\keypoint_classifier.hdf5\n",
            "147/147 [==============================] - 2s 12ms/step - loss: 0.2877 - accuracy: 0.9056 - val_loss: 0.1519 - val_accuracy: 0.9646\n",
            "Epoch 45/2000\n",
            "147/147 [==============================] - ETA: 0s - loss: 0.2836 - accuracy: 0.9034\n",
            "Epoch 45: saving model to model/keypoint_classifier\\keypoint_classifier.hdf5\n",
            "147/147 [==============================] - 3s 22ms/step - loss: 0.2836 - accuracy: 0.9034 - val_loss: 0.1494 - val_accuracy: 0.9673\n",
            "Epoch 46/2000\n",
            "147/147 [==============================] - ETA: 0s - loss: 0.2758 - accuracy: 0.9080\n",
            "Epoch 46: saving model to model/keypoint_classifier\\keypoint_classifier.hdf5\n",
            "147/147 [==============================] - 2s 16ms/step - loss: 0.2758 - accuracy: 0.9080 - val_loss: 0.1863 - val_accuracy: 0.9435\n",
            "Epoch 47/2000\n",
            "147/147 [==============================] - ETA: 0s - loss: 0.2755 - accuracy: 0.9097\n",
            "Epoch 47: saving model to model/keypoint_classifier\\keypoint_classifier.hdf5\n",
            "147/147 [==============================] - 4s 26ms/step - loss: 0.2755 - accuracy: 0.9097 - val_loss: 0.1327 - val_accuracy: 0.9713\n",
            "Epoch 48/2000\n",
            "143/147 [============================>.] - ETA: 0s - loss: 0.2676 - accuracy: 0.9130\n",
            "Epoch 48: saving model to model/keypoint_classifier\\keypoint_classifier.hdf5\n",
            "147/147 [==============================] - 2s 15ms/step - loss: 0.2658 - accuracy: 0.9134 - val_loss: 0.1647 - val_accuracy: 0.9568\n",
            "Epoch 49/2000\n",
            "144/147 [============================>.] - ETA: 0s - loss: 0.2689 - accuracy: 0.9135\n",
            "Epoch 49: saving model to model/keypoint_classifier\\keypoint_classifier.hdf5\n",
            "147/147 [==============================] - 2s 14ms/step - loss: 0.2682 - accuracy: 0.9135 - val_loss: 0.1718 - val_accuracy: 0.9521\n",
            "Epoch 50/2000\n",
            "147/147 [==============================] - ETA: 0s - loss: 0.2706 - accuracy: 0.9106\n",
            "Epoch 50: saving model to model/keypoint_classifier\\keypoint_classifier.hdf5\n",
            "147/147 [==============================] - 4s 25ms/step - loss: 0.2706 - accuracy: 0.9106 - val_loss: 0.1958 - val_accuracy: 0.9478\n",
            "Epoch 51/2000\n",
            "143/147 [============================>.] - ETA: 0s - loss: 0.2607 - accuracy: 0.9121\n",
            "Epoch 51: saving model to model/keypoint_classifier\\keypoint_classifier.hdf5\n",
            "147/147 [==============================] - 3s 24ms/step - loss: 0.2598 - accuracy: 0.9124 - val_loss: 0.1417 - val_accuracy: 0.9665\n",
            "Epoch 52/2000\n",
            "144/147 [============================>.] - ETA: 0s - loss: 0.2614 - accuracy: 0.9132\n",
            "Epoch 52: saving model to model/keypoint_classifier\\keypoint_classifier.hdf5\n",
            "147/147 [==============================] - 2s 15ms/step - loss: 0.2610 - accuracy: 0.9133 - val_loss: 0.1842 - val_accuracy: 0.9491\n",
            "Epoch 53/2000\n",
            "146/147 [============================>.] - ETA: 0s - loss: 0.2561 - accuracy: 0.9151\n",
            "Epoch 53: saving model to model/keypoint_classifier\\keypoint_classifier.hdf5\n",
            "147/147 [==============================] - 3s 24ms/step - loss: 0.2559 - accuracy: 0.9154 - val_loss: 0.1409 - val_accuracy: 0.9651\n",
            "Epoch 54/2000\n",
            "145/147 [============================>.] - ETA: 0s - loss: 0.2553 - accuracy: 0.9174\n",
            "Epoch 54: saving model to model/keypoint_classifier\\keypoint_classifier.hdf5\n",
            "147/147 [==============================] - 2s 12ms/step - loss: 0.2547 - accuracy: 0.9175 - val_loss: 0.1519 - val_accuracy: 0.9620\n",
            "Epoch 55/2000\n",
            "146/147 [============================>.] - ETA: 0s - loss: 0.2423 - accuracy: 0.9179\n",
            "Epoch 55: saving model to model/keypoint_classifier\\keypoint_classifier.hdf5\n",
            "147/147 [==============================] - 2s 12ms/step - loss: 0.2428 - accuracy: 0.9178 - val_loss: 0.1463 - val_accuracy: 0.9660\n",
            "Epoch 56/2000\n",
            "145/147 [============================>.] - ETA: 0s - loss: 0.2510 - accuracy: 0.9165\n",
            "Epoch 56: saving model to model/keypoint_classifier\\keypoint_classifier.hdf5\n",
            "147/147 [==============================] - 2s 12ms/step - loss: 0.2519 - accuracy: 0.9161 - val_loss: 0.1443 - val_accuracy: 0.9655\n",
            "Epoch 57/2000\n",
            "142/147 [===========================>..] - ETA: 0s - loss: 0.2503 - accuracy: 0.9173\n",
            "Epoch 57: saving model to model/keypoint_classifier\\keypoint_classifier.hdf5\n",
            "147/147 [==============================] - 2s 12ms/step - loss: 0.2483 - accuracy: 0.9180 - val_loss: 0.1437 - val_accuracy: 0.9612\n",
            "Epoch 58/2000\n",
            "147/147 [==============================] - ETA: 0s - loss: 0.2404 - accuracy: 0.9211\n",
            "Epoch 58: saving model to model/keypoint_classifier\\keypoint_classifier.hdf5\n",
            "147/147 [==============================] - 3s 21ms/step - loss: 0.2404 - accuracy: 0.9211 - val_loss: 0.1317 - val_accuracy: 0.9703\n",
            "Epoch 59/2000\n",
            "145/147 [============================>.] - ETA: 0s - loss: 0.2342 - accuracy: 0.9233\n",
            "Epoch 59: saving model to model/keypoint_classifier\\keypoint_classifier.hdf5\n",
            "147/147 [==============================] - 2s 12ms/step - loss: 0.2340 - accuracy: 0.9233 - val_loss: 0.1464 - val_accuracy: 0.9617\n",
            "Epoch 60/2000\n",
            "146/147 [============================>.] - ETA: 0s - loss: 0.2349 - accuracy: 0.9252\n",
            "Epoch 60: saving model to model/keypoint_classifier\\keypoint_classifier.hdf5\n",
            "147/147 [==============================] - 2s 12ms/step - loss: 0.2346 - accuracy: 0.9253 - val_loss: 0.1817 - val_accuracy: 0.9459\n",
            "Epoch 61/2000\n",
            "146/147 [============================>.] - ETA: 0s - loss: 0.2283 - accuracy: 0.9240\n",
            "Epoch 61: saving model to model/keypoint_classifier\\keypoint_classifier.hdf5\n",
            "147/147 [==============================] - 2s 11ms/step - loss: 0.2285 - accuracy: 0.9240 - val_loss: 0.1320 - val_accuracy: 0.9692\n",
            "Epoch 62/2000\n",
            "143/147 [============================>.] - ETA: 0s - loss: 0.2266 - accuracy: 0.9272\n",
            "Epoch 62: saving model to model/keypoint_classifier\\keypoint_classifier.hdf5\n",
            "147/147 [==============================] - 2s 12ms/step - loss: 0.2267 - accuracy: 0.9270 - val_loss: 0.1698 - val_accuracy: 0.9536\n",
            "Epoch 63/2000\n",
            "147/147 [==============================] - ETA: 0s - loss: 0.2301 - accuracy: 0.9245\n",
            "Epoch 63: saving model to model/keypoint_classifier\\keypoint_classifier.hdf5\n",
            "147/147 [==============================] - 3s 21ms/step - loss: 0.2301 - accuracy: 0.9245 - val_loss: 0.1524 - val_accuracy: 0.9617\n",
            "Epoch 64/2000\n",
            "142/147 [===========================>..] - ETA: 0s - loss: 0.2302 - accuracy: 0.9239\n",
            "Epoch 64: saving model to model/keypoint_classifier\\keypoint_classifier.hdf5\n",
            "147/147 [==============================] - 2s 11ms/step - loss: 0.2282 - accuracy: 0.9247 - val_loss: 0.1418 - val_accuracy: 0.9636\n",
            "Epoch 65/2000\n",
            "142/147 [===========================>..] - ETA: 0s - loss: 0.2227 - accuracy: 0.9291\n",
            "Epoch 65: saving model to model/keypoint_classifier\\keypoint_classifier.hdf5\n",
            "147/147 [==============================] - 2s 13ms/step - loss: 0.2238 - accuracy: 0.9289 - val_loss: 0.1598 - val_accuracy: 0.9553\n",
            "Epoch 66/2000\n",
            "144/147 [============================>.] - ETA: 0s - loss: 0.2312 - accuracy: 0.9233\n",
            "Epoch 66: saving model to model/keypoint_classifier\\keypoint_classifier.hdf5\n",
            "147/147 [==============================] - 3s 24ms/step - loss: 0.2308 - accuracy: 0.9233 - val_loss: 0.1727 - val_accuracy: 0.9469\n",
            "Epoch 67/2000\n",
            "144/147 [============================>.] - ETA: 0s - loss: 0.2172 - accuracy: 0.9290\n",
            "Epoch 67: saving model to model/keypoint_classifier\\keypoint_classifier.hdf5\n",
            "147/147 [==============================] - 3s 21ms/step - loss: 0.2172 - accuracy: 0.9292 - val_loss: 0.1297 - val_accuracy: 0.9668\n",
            "Epoch 68/2000\n",
            "144/147 [============================>.] - ETA: 0s - loss: 0.2143 - accuracy: 0.9297\n",
            "Epoch 68: saving model to model/keypoint_classifier\\keypoint_classifier.hdf5\n",
            "147/147 [==============================] - 4s 26ms/step - loss: 0.2141 - accuracy: 0.9300 - val_loss: 0.1349 - val_accuracy: 0.9651\n",
            "Epoch 69/2000\n",
            "146/147 [============================>.] - ETA: 0s - loss: 0.2244 - accuracy: 0.9272\n",
            "Epoch 69: saving model to model/keypoint_classifier\\keypoint_classifier.hdf5\n",
            "147/147 [==============================] - 2s 15ms/step - loss: 0.2241 - accuracy: 0.9273 - val_loss: 0.1274 - val_accuracy: 0.9675\n",
            "Epoch 70/2000\n",
            "143/147 [============================>.] - ETA: 0s - loss: 0.2186 - accuracy: 0.9261\n",
            "Epoch 70: saving model to model/keypoint_classifier\\keypoint_classifier.hdf5\n",
            "147/147 [==============================] - 2s 12ms/step - loss: 0.2175 - accuracy: 0.9266 - val_loss: 0.1576 - val_accuracy: 0.9577\n",
            "Epoch 71/2000\n",
            "142/147 [===========================>..] - ETA: 0s - loss: 0.2162 - accuracy: 0.9284\n",
            "Epoch 71: saving model to model/keypoint_classifier\\keypoint_classifier.hdf5\n",
            "147/147 [==============================] - 3s 21ms/step - loss: 0.2173 - accuracy: 0.9282 - val_loss: 0.1363 - val_accuracy: 0.9636\n",
            "Epoch 72/2000\n",
            "147/147 [==============================] - ETA: 0s - loss: 0.2192 - accuracy: 0.9281\n",
            "Epoch 72: saving model to model/keypoint_classifier\\keypoint_classifier.hdf5\n",
            "147/147 [==============================] - 2s 13ms/step - loss: 0.2192 - accuracy: 0.9281 - val_loss: 0.1249 - val_accuracy: 0.9710\n",
            "Epoch 73/2000\n",
            "143/147 [============================>.] - ETA: 0s - loss: 0.2073 - accuracy: 0.9323\n",
            "Epoch 73: saving model to model/keypoint_classifier\\keypoint_classifier.hdf5\n",
            "147/147 [==============================] - 3s 22ms/step - loss: 0.2078 - accuracy: 0.9323 - val_loss: 0.1154 - val_accuracy: 0.9714\n",
            "Epoch 74/2000\n",
            "144/147 [============================>.] - ETA: 0s - loss: 0.2074 - accuracy: 0.9303\n",
            "Epoch 74: saving model to model/keypoint_classifier\\keypoint_classifier.hdf5\n",
            "147/147 [==============================] - 2s 14ms/step - loss: 0.2067 - accuracy: 0.9305 - val_loss: 0.1585 - val_accuracy: 0.9549\n",
            "Epoch 75/2000\n",
            "145/147 [============================>.] - ETA: 0s - loss: 0.2035 - accuracy: 0.9331\n",
            "Epoch 75: saving model to model/keypoint_classifier\\keypoint_classifier.hdf5\n",
            "147/147 [==============================] - 3s 22ms/step - loss: 0.2030 - accuracy: 0.9332 - val_loss: 0.1169 - val_accuracy: 0.9700\n",
            "Epoch 76/2000\n",
            "146/147 [============================>.] - ETA: 0s - loss: 0.2143 - accuracy: 0.9303\n",
            "Epoch 76: saving model to model/keypoint_classifier\\keypoint_classifier.hdf5\n",
            "147/147 [==============================] - 2s 11ms/step - loss: 0.2138 - accuracy: 0.9305 - val_loss: 0.0979 - val_accuracy: 0.9766\n",
            "Epoch 77/2000\n",
            "146/147 [============================>.] - ETA: 0s - loss: 0.2060 - accuracy: 0.9332\n",
            "Epoch 77: saving model to model/keypoint_classifier\\keypoint_classifier.hdf5\n",
            "147/147 [==============================] - 2s 12ms/step - loss: 0.2063 - accuracy: 0.9332 - val_loss: 0.1420 - val_accuracy: 0.9600\n",
            "Epoch 78/2000\n",
            "145/147 [============================>.] - ETA: 0s - loss: 0.1994 - accuracy: 0.9335\n",
            "Epoch 78: saving model to model/keypoint_classifier\\keypoint_classifier.hdf5\n",
            "147/147 [==============================] - 3s 18ms/step - loss: 0.2005 - accuracy: 0.9331 - val_loss: 0.1364 - val_accuracy: 0.9659\n",
            "Epoch 79/2000\n",
            "145/147 [============================>.] - ETA: 0s - loss: 0.2040 - accuracy: 0.9337\n",
            "Epoch 79: saving model to model/keypoint_classifier\\keypoint_classifier.hdf5\n",
            "147/147 [==============================] - 2s 14ms/step - loss: 0.2043 - accuracy: 0.9339 - val_loss: 0.1314 - val_accuracy: 0.9659\n",
            "Epoch 80/2000\n",
            "146/147 [============================>.] - ETA: 0s - loss: 0.2043 - accuracy: 0.9335\n",
            "Epoch 80: saving model to model/keypoint_classifier\\keypoint_classifier.hdf5\n",
            "147/147 [==============================] - 3s 21ms/step - loss: 0.2039 - accuracy: 0.9336 - val_loss: 0.1277 - val_accuracy: 0.9649\n",
            "Epoch 81/2000\n",
            "147/147 [==============================] - ETA: 0s - loss: 0.1975 - accuracy: 0.9344\n",
            "Epoch 81: saving model to model/keypoint_classifier\\keypoint_classifier.hdf5\n",
            "147/147 [==============================] - 2s 12ms/step - loss: 0.1975 - accuracy: 0.9344 - val_loss: 0.1454 - val_accuracy: 0.9657\n",
            "Epoch 82/2000\n",
            "143/147 [============================>.] - ETA: 0s - loss: 0.1940 - accuracy: 0.9352\n",
            "Epoch 82: saving model to model/keypoint_classifier\\keypoint_classifier.hdf5\n",
            "147/147 [==============================] - 3s 21ms/step - loss: 0.1943 - accuracy: 0.9351 - val_loss: 0.1864 - val_accuracy: 0.9395\n",
            "Epoch 83/2000\n",
            "145/147 [============================>.] - ETA: 0s - loss: 0.2005 - accuracy: 0.9341\n",
            "Epoch 83: saving model to model/keypoint_classifier\\keypoint_classifier.hdf5\n",
            "147/147 [==============================] - 2s 12ms/step - loss: 0.2001 - accuracy: 0.9342 - val_loss: 0.1220 - val_accuracy: 0.9671\n",
            "Epoch 84/2000\n",
            "147/147 [==============================] - ETA: 0s - loss: 0.2009 - accuracy: 0.9314\n",
            "Epoch 84: saving model to model/keypoint_classifier\\keypoint_classifier.hdf5\n",
            "147/147 [==============================] - 2s 11ms/step - loss: 0.2009 - accuracy: 0.9314 - val_loss: 0.1285 - val_accuracy: 0.9638\n",
            "Epoch 85/2000\n",
            "143/147 [============================>.] - ETA: 0s - loss: 0.1892 - accuracy: 0.9394\n",
            "Epoch 85: saving model to model/keypoint_classifier\\keypoint_classifier.hdf5\n",
            "147/147 [==============================] - 2s 12ms/step - loss: 0.1897 - accuracy: 0.9393 - val_loss: 0.1526 - val_accuracy: 0.9528\n",
            "Epoch 86/2000\n",
            "147/147 [==============================] - ETA: 0s - loss: 0.1990 - accuracy: 0.9343\n",
            "Epoch 86: saving model to model/keypoint_classifier\\keypoint_classifier.hdf5\n",
            "147/147 [==============================] - 3s 21ms/step - loss: 0.1990 - accuracy: 0.9343 - val_loss: 0.1238 - val_accuracy: 0.9706\n",
            "Epoch 87/2000\n",
            "144/147 [============================>.] - ETA: 0s - loss: 0.1860 - accuracy: 0.9387\n",
            "Epoch 87: saving model to model/keypoint_classifier\\keypoint_classifier.hdf5\n",
            "147/147 [==============================] - 3s 21ms/step - loss: 0.1860 - accuracy: 0.9389 - val_loss: 0.1321 - val_accuracy: 0.9662\n",
            "Epoch 88/2000\n",
            "144/147 [============================>.] - ETA: 0s - loss: 0.1913 - accuracy: 0.9389\n",
            "Epoch 88: saving model to model/keypoint_classifier\\keypoint_classifier.hdf5\n",
            "147/147 [==============================] - 2s 12ms/step - loss: 0.1922 - accuracy: 0.9387 - val_loss: 0.1464 - val_accuracy: 0.9612\n",
            "Epoch 89/2000\n",
            "147/147 [==============================] - ETA: 0s - loss: 0.1913 - accuracy: 0.9354\n",
            "Epoch 89: saving model to model/keypoint_classifier\\keypoint_classifier.hdf5\n",
            "147/147 [==============================] - 3s 20ms/step - loss: 0.1913 - accuracy: 0.9354 - val_loss: 0.1241 - val_accuracy: 0.9644\n",
            "Epoch 90/2000\n",
            "144/147 [============================>.] - ETA: 0s - loss: 0.1858 - accuracy: 0.9406\n",
            "Epoch 90: saving model to model/keypoint_classifier\\keypoint_classifier.hdf5\n",
            "147/147 [==============================] - 2s 12ms/step - loss: 0.1861 - accuracy: 0.9403 - val_loss: 0.1106 - val_accuracy: 0.9703\n",
            "Epoch 91/2000\n",
            "147/147 [==============================] - ETA: 0s - loss: 0.1872 - accuracy: 0.9377\n",
            "Epoch 91: saving model to model/keypoint_classifier\\keypoint_classifier.hdf5\n",
            "147/147 [==============================] - 2s 12ms/step - loss: 0.1872 - accuracy: 0.9377 - val_loss: 0.1051 - val_accuracy: 0.9750\n",
            "Epoch 92/2000\n",
            "143/147 [============================>.] - ETA: 0s - loss: 0.1872 - accuracy: 0.9392\n",
            "Epoch 92: saving model to model/keypoint_classifier\\keypoint_classifier.hdf5\n",
            "147/147 [==============================] - 2s 13ms/step - loss: 0.1871 - accuracy: 0.9397 - val_loss: 0.1294 - val_accuracy: 0.9654\n",
            "Epoch 93/2000\n",
            "147/147 [==============================] - ETA: 0s - loss: 0.1897 - accuracy: 0.9371\n",
            "Epoch 93: saving model to model/keypoint_classifier\\keypoint_classifier.hdf5\n",
            "147/147 [==============================] - 3s 20ms/step - loss: 0.1897 - accuracy: 0.9371 - val_loss: 0.1457 - val_accuracy: 0.9572\n",
            "Epoch 94/2000\n",
            "147/147 [==============================] - ETA: 0s - loss: 0.1855 - accuracy: 0.9383\n",
            "Epoch 94: saving model to model/keypoint_classifier\\keypoint_classifier.hdf5\n",
            "147/147 [==============================] - 3s 21ms/step - loss: 0.1855 - accuracy: 0.9383 - val_loss: 0.1109 - val_accuracy: 0.9706\n",
            "Epoch 95/2000\n",
            "146/147 [============================>.] - ETA: 0s - loss: 0.1872 - accuracy: 0.9394\n",
            "Epoch 95: saving model to model/keypoint_classifier\\keypoint_classifier.hdf5\n",
            "147/147 [==============================] - 2s 11ms/step - loss: 0.1876 - accuracy: 0.9391 - val_loss: 0.1650 - val_accuracy: 0.9515\n",
            "Epoch 96/2000\n",
            "147/147 [==============================] - ETA: 0s - loss: 0.1727 - accuracy: 0.9444\n",
            "Epoch 96: saving model to model/keypoint_classifier\\keypoint_classifier.hdf5\n",
            "147/147 [==============================] - 3s 22ms/step - loss: 0.1727 - accuracy: 0.9444 - val_loss: 0.1829 - val_accuracy: 0.9335\n",
            "Epoch 96: early stopping\n"
          ]
        }
      ],
      "source": [
        "history=model.fit(\n",
        "    X_train,\n",
        "    y_train,\n",
        "    epochs=2000,\n",
        "    batch_size=128,\n",
        "    validation_data=(X_test, y_test),\n",
        "    callbacks=[cp_callback, es_callback]\n",
        ")"
      ]
    },
    {
      "cell_type": "code",
      "execution_count": 12,
      "metadata": {
        "colab": {
          "base_uri": "https://localhost:8080/"
        },
        "id": "pxvb2Y299hE3",
        "outputId": "59eb3185-2e37-4b9e-bc9d-ab1b8ac29b7f"
      },
      "outputs": [
        {
          "name": "stdout",
          "output_type": "stream",
          "text": [
            "49/49 [==============================] - 0s 5ms/step - loss: 0.1829 - accuracy: 0.9335\n"
          ]
        }
      ],
      "source": [
        "# Model evaluation\n",
        "val_loss, val_acc = model.evaluate(X_test, y_test, batch_size=128)"
      ]
    },
    {
      "cell_type": "code",
      "execution_count": 13,
      "metadata": {
        "id": "RBkmDeUW9hE4"
      },
      "outputs": [],
      "source": [
        "# Loading the saved model\n",
        "model = tf.keras.models.load_model(model_save_path)"
      ]
    },
    {
      "cell_type": "code",
      "execution_count": 14,
      "metadata": {
        "colab": {
          "base_uri": "https://localhost:8080/"
        },
        "id": "tFz9Tb0I9hE4",
        "outputId": "1c3b3528-54ae-4ee2-ab04-77429211cbef"
      },
      "outputs": [
        {
          "name": "stdout",
          "output_type": "stream",
          "text": [
            "1/1 [==============================] - 0s 283ms/step\n",
            "[5.9243066e-05 8.3899271e-14 7.0209533e-10 3.2663850e-14 2.3687251e-05\n",
            " 2.6034232e-04 2.2421238e-17 1.7605194e-08 3.9970498e-09 1.2421733e-10\n",
            " 4.5757628e-14 9.0233852e-15 4.9850296e-08 1.0039713e-06 2.9205195e-05\n",
            " 9.9923145e-09 9.1043555e-09 2.0346044e-17 5.6806625e-12 1.3367516e-07\n",
            " 1.6481350e-13 2.3598240e-08 3.3394839e-30 9.4546659e-10 2.5444282e-20\n",
            " 2.4864300e-09 1.1208910e-12 2.7738926e-07 1.9278611e-17 4.9870637e-16\n",
            " 2.1843597e-07 5.2232292e-16 2.0777937e-14 1.3778103e-06 4.3219795e-21\n",
            " 9.9962437e-01 1.2110448e-17 4.7823968e-18]\n",
            "35\n"
          ]
        }
      ],
      "source": [
        "# Inference test\n",
        "predict_result = model.predict(np.array([X_test[0]]))\n",
        "print(np.squeeze(predict_result))\n",
        "print(np.argmax(np.squeeze(predict_result)))"
      ]
    },
    {
      "cell_type": "markdown",
      "metadata": {
        "id": "S3U4yNWx9hE4"
      },
      "source": [
        "# Confusion matrix"
      ]
    },
    {
      "cell_type": "code",
      "execution_count": 15,
      "metadata": {
        "colab": {
          "base_uri": "https://localhost:8080/",
          "height": 582
        },
        "id": "AP1V6SCk9hE5",
        "outputId": "08e41a80-7a4a-4619-8125-ecc371368d19"
      },
      "outputs": [
        {
          "name": "stdout",
          "output_type": "stream",
          "text": [
            "196/196 [==============================] - 1s 2ms/step\n"
          ]
        },
        {
          "data": {
            "image/png": "[encoded data removed]",
            "text/plain": [
              "<Figure size 504x432 with 2 Axes>"
            ]
          },
          "metadata": {
            "needs_background": "light"
          },
          "output_type": "display_data"
        },
        {
          "name": "stdout",
          "output_type": "stream",
          "text": [
            "Classification Report\n",
            "              precision    recall  f1-score   support\n",
            "\n",
            "           0       0.99      0.95      0.97       147\n",
            "           1       0.99      1.00      0.99       163\n",
            "           2       0.75      0.99      0.86       177\n",
            "           3       0.97      0.99      0.98       167\n",
            "           4       0.97      0.99      0.98       138\n",
            "           5       1.00      0.98      0.99       159\n",
            "           6       0.84      0.94      0.89       176\n",
            "           7       0.95      1.00      0.98       168\n",
            "           8       1.00      0.99      1.00       153\n",
            "           9       0.99      0.99      0.99       134\n",
            "          10       1.00      0.69      0.82       228\n",
            "          11       0.76      1.00      0.87       231\n",
            "          12       1.00      0.98      0.99       170\n",
            "          13       1.00      0.99      0.99       310\n",
            "          14       0.98      0.99      0.99       237\n",
            "          15       1.00      1.00      1.00       161\n",
            "          16       0.98      0.97      0.97       174\n",
            "          17       1.00      0.91      0.95       158\n",
            "          18       0.99      0.98      0.99       211\n",
            "          19       0.99      1.00      1.00       183\n",
            "          20       1.00      0.99      1.00       103\n",
            "          21       0.98      1.00      0.99        81\n",
            "          22       0.72      0.18      0.28       204\n",
            "          23       0.95      0.99      0.97       179\n",
            "          24       0.56      1.00      0.72       230\n",
            "          25       1.00      0.86      0.93       177\n",
            "          26       1.00      0.96      0.98       197\n",
            "          27       0.99      0.97      0.98        98\n",
            "          28       1.00      0.95      0.98       215\n",
            "          29       0.99      0.98      0.98       150\n",
            "          30       0.97      0.98      0.98       148\n",
            "          31       1.00      0.90      0.95       156\n",
            "          32       0.95      0.98      0.97       189\n",
            "          33       0.98      0.75      0.85       165\n",
            "          34       0.99      1.00      0.99        98\n",
            "          35       1.00      0.99      1.00       126\n",
            "          36       1.00      0.98      0.99       108\n",
            "\n",
            "    accuracy                           0.93      6269\n",
            "   macro avg       0.95      0.94      0.94      6269\n",
            "weighted avg       0.94      0.93      0.93      6269\n",
            "\n"
          ]
        }
      ],
      "source": [
        "import pandas as pd\n",
        "import seaborn as sns\n",
        "import matplotlib.pyplot as plt\n",
        "from sklearn.metrics import confusion_matrix, classification_report\n",
        "\n",
        "def print_confusion_matrix(y_true, y_pred, report=True):\n",
        "    labels = sorted(list(set(y_true)))\n",
        "    cmx_data = confusion_matrix(y_true, y_pred, labels=labels)\n",
        "    \n",
        "    df_cmx = pd.DataFrame(cmx_data, index=labels, columns=labels)\n",
        " \n",
        "    fig, ax = plt.subplots(figsize=(7, 6))\n",
        "    sns.heatmap(df_cmx, annot=True, fmt='g' ,square=False)\n",
        "    ax.set_ylim(len(set(y_true)), 0)\n",
        "    plt.show()\n",
        "    \n",
        "    if report:\n",
        "        print('Classification Report')\n",
        "        print(classification_report(y_test, y_pred))\n",
        "\n",
        "Y_pred = model.predict(X_test)\n",
        "y_pred = np.argmax(Y_pred, axis=1)\n",
        "\n",
        "print_confusion_matrix(y_test, y_pred)"
      ]
    },
    {
      "cell_type": "markdown",
      "metadata": {
        "id": "FNP6aqzc9hE5"
      },
      "source": [
        "# Convert to model for Tensorflow-Lite"
      ]
    },
    {
      "cell_type": "code",
      "execution_count": 16,
      "metadata": {
        "id": "ODjnYyld9hE6"
      },
      "outputs": [],
      "source": [
        "# Save as a model dedicated to inference\n",
        "model.save(model_save_path, include_optimizer=False)"
      ]
    },
    {
      "cell_type": "code",
      "execution_count": 17,
      "metadata": {
        "colab": {
          "base_uri": "https://localhost:8080/"
        },
        "id": "zRfuK8Y59hE6",
        "outputId": "a4ca585c-b5d5-4244-8291-8674063209bb"
      },
      "outputs": [
        {
          "name": "stdout",
          "output_type": "stream",
          "text": [
            "INFO:tensorflow:Assets written to: C:\\Users\\user\\AppData\\Local\\Temp\\tmpnpk9taz3\\assets\n"
          ]
        },
        {
          "data": {
            "text/plain": [
              "58712"
            ]
          },
          "execution_count": 17,
          "metadata": {},
          "output_type": "execute_result"
        }
      ],
      "source": [
        "# Transform model (quantization)\n",
        "\n",
        "converter = tf.lite.TFLiteConverter.from_keras_model(model)\n",
        "converter.optimizations = [tf.lite.Optimize.DEFAULT]\n",
        "tflite_quantized_model = converter.convert()\n",
        "\n",
        "open(tflite_save_path, 'wb').write(tflite_quantized_model)"
      ]
    },
    {
      "cell_type": "markdown",
      "metadata": {
        "id": "CHBPBXdx9hE6"
      },
      "source": [
        "# Inference test"
      ]
    },
    {
      "cell_type": "code",
      "execution_count": 18,
      "metadata": {
        "id": "mGAzLocO9hE7"
      },
      "outputs": [],
      "source": [
        "interpreter = tf.lite.Interpreter(model_path=tflite_save_path)\n",
        "interpreter.allocate_tensors()"
      ]
    },
    {
      "cell_type": "code",
      "execution_count": 19,
      "metadata": {
        "id": "oQuDK8YS9hE7"
      },
      "outputs": [],
      "source": [
        "# Get I / O tensor\n",
        "input_details = interpreter.get_input_details()\n",
        "output_details = interpreter.get_output_details()"
      ]
    },
    {
      "cell_type": "code",
      "execution_count": 20,
      "metadata": {
        "id": "2_ixAf_l9hE7"
      },
      "outputs": [],
      "source": [
        "interpreter.set_tensor(input_details[0]['index'], np.array([X_test[0]]))"
      ]
    },
    {
      "cell_type": "code",
      "execution_count": 21,
      "metadata": {
        "colab": {
          "base_uri": "https://localhost:8080/"
        },
        "id": "s4FoAnuc9hE7",
        "outputId": "91f18257-8d8b-4ef3-c558-e9b5f94fabbf",
        "scrolled": true
      },
      "outputs": [
        {
          "name": "stdout",
          "output_type": "stream",
          "text": [
            "[6.14175588e-05 7.42330324e-14 5.99597816e-10 2.29539864e-14\n",
            " 1.97823447e-05 2.64713104e-04 1.51576943e-17 1.40622118e-08\n",
            " 2.87409496e-09 1.22826360e-10 3.83535468e-14 5.74964440e-15\n",
            " 4.54808209e-08 7.99594886e-07 2.46857289e-05 8.98012953e-09\n",
            " 8.04852274e-09 1.70265931e-17 3.72511440e-12 1.11698206e-07\n",
            " 9.61268012e-14 2.05429060e-08 1.09638490e-30 7.92614196e-10\n",
            " 1.47222866e-20 1.76067638e-09 9.06047481e-13 2.25022632e-07\n",
            " 1.16405314e-17 2.56521652e-16 2.40349948e-07 3.22483892e-16\n",
            " 1.30848752e-14 1.50291100e-06 2.77973338e-21 9.99626398e-01\n",
            " 5.75982115e-18 3.02716465e-18]\n",
            "35\n"
          ]
        }
      ],
      "source": [
        "# Inference implementation\n",
        "interpreter.invoke()\n",
        "tflite_results = interpreter.get_tensor(output_details[0]['index'])\n",
        "print(np.squeeze(tflite_results))\n",
        "print(np.argmax(np.squeeze(tflite_results)))"
      ]
    },
    {
      "cell_type": "code",
      "execution_count": 22,
      "metadata": {
        "colab": {
          "base_uri": "https://localhost:8080/"
        },
        "id": "vONjp19J9hE8",
        "outputId": "77205e24-fd00-42c4-f7b6-e06e527c2cba"
      },
      "outputs": [
        {
          "data": {
            "text/plain": [
              "<matplotlib.legend.Legend at 0x1fc87cda670>"
            ]
          },
          "execution_count": 22,
          "metadata": {},
          "output_type": "execute_result"
        },
        {
          "data": {
            "image/png": "[encoded data removed]",
            "text/plain": [
              "<Figure size 432x288 with 1 Axes>"
            ]
          },
          "metadata": {
            "needs_background": "light"
          },
          "output_type": "display_data"
        }
      ],
      "source": [
        "import matplotlib.pyplot as plot\n",
        "plot.subplot(2,1,1)\n",
        "plot.plot(history.history['accuracy'])\n",
        "plot.plot(history.history['val_accuracy'])\n",
        "plot.title('model accuracy')\n",
        "plot.ylabel('accuracy')\n",
        "plot.xlabel('epoch')\n",
        "plot.legend(['train', 'test'], loc='lower right')\n"
      ]
    },
    {
      "cell_type": "code",
      "execution_count": 23,
      "metadata": {},
      "outputs": [
        {
          "data": {
            "text/plain": [
              "<matplotlib.legend.Legend at 0x1fc9bb566d0>"
            ]
          },
          "execution_count": 23,
          "metadata": {},
          "output_type": "execute_result"
        },
        {
          "data": {
            "image/png": "[encoded data removed]",
            "text/plain": [
              "<Figure size 432x288 with 1 Axes>"
            ]
          },
          "metadata": {
            "needs_background": "light"
          },
          "output_type": "display_data"
        }
      ],
      "source": [
        "import matplotlib.pyplot as plot\n",
        "plot.subplot(2,1,2)\n",
        "plot.plot(history.history['loss'])\n",
        "plot.plot(history.history['val_loss'])\n",
        "plot.title('model loss')\n",
        "plot.ylabel('loss')\n",
        "plot.xlabel('epoch')\n",
        "plot.legend(['train', 'test'], loc='upper right')"
      ]
    }
  ],
  "metadata": {
    "accelerator": "GPU",
    "colab": {
      "collapsed_sections": [],
      "name": "keypoint_classification_EN.ipynb",
      "provenance": [],
      "toc_visible": true
    },
    "kernelspec": {
      "display_name": "Python 3.9.4 64-bit",
      "language": "python",
      "name": "python3"
    },
    "language_info": {
      "codemirror_mode": {
        "name": "ipython",
        "version": 3
      },
      "file_extension": ".py",
      "mimetype": "text/x-python",
      "name": "python",
      "nbconvert_exporter": "python",
      "pygments_lexer": "ipython3",
      "version": "3.9.4"
    },
    "vscode": {
      "interpreter": {
        "hash": "82ed002fa2d4956f5c6aec99bcefe0f73a9f79882f3c9e2319b14958a5896ac5"
      }
    }
  },
  "nbformat": 4,
  "nbformat_minor": 0
}
